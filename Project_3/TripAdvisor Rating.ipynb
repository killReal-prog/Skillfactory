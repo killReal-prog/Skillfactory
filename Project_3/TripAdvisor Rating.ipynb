{
 "cells": [
  {
   "cell_type": "markdown",
   "metadata": {},
   "source": [
    "# Загрузка Pandas и очистка данных"
   ]
  },
  {
   "cell_type": "code",
   "execution_count": null,
   "metadata": {},
   "outputs": [],
   "source": [
    "'''Здравствуйте, здесь в ноутбуке только предобработка, в каггле так же \n",
    "есть небольшой анализ распределения признаков. Сделал довольно мало, но в целом с работой разобрался.\n",
    "Знаю, что можно было добавить еще очень много признаков, но я и так опоздал((. Дайте пж информацию по созвону, есть\n",
    "много вопросов по проекту. Свой feature ingenering не объяснял, думаю, все и так понятно. Вообще работа очень интере\n",
    "сная, намного интересней предыдущих проектов, и я бы к ней вернулся потом с новыми знаниями, чтобы улучшить пред\n",
    "сказания.\n",
    "\n",
    "В readme написал вопросы, прошу объяснить'''"
   ]
  },
  {
   "cell_type": "code",
   "execution_count": 1,
   "metadata": {},
   "outputs": [],
   "source": [
    "import pandas as pd"
   ]
  },
  {
   "cell_type": "code",
   "execution_count": 2,
   "metadata": {},
   "outputs": [],
   "source": [
    "df = pd.read_csv('/Users/kirill/Downloads/main_task_new.csv')"
   ]
  },
  {
   "cell_type": "code",
   "execution_count": 3,
   "metadata": {},
   "outputs": [],
   "source": [
    "# функция для всех действий по предобработке\n",
    "def preproc_data(df_input):\n",
    "    '''includes several functions to pre-process the predictor data.'''\n",
    "    \n",
    "    df_output = df_input.copy()\n",
    "    \n",
    "    # ################### 1. Предобработка ############################################################## \n",
    "    # убираем не нужные для модели признаки\n",
    "    df_output.drop(['Restaurant_id','ID_TA',], axis = 1, inplace=True)\n",
    "    \n",
    "    \n",
    "    # ################### 2. NAN ############################################################## \n",
    "    # Далее заполняем пропуски, вы можете попробовать заполнением средним или средним по городу и тд...\n",
    "    df_output['Number of Reviews'].fillna(df_output['Number of Reviews'].mean(), inplace=True)\n",
    "    df_output['Cuisine Style'].fillna(\"[\\'Vegetarian Friendly\\']\", inplace=True) #самая частая кухня\n",
    "    df_output['Reviews'].fillna(\"[[], []]\", inplace=True)\n",
    "    \n",
    "    # ################### 3. Encoding ############################################################## \n",
    "    # для One-Hot Encoding в pandas есть готовая функция - get_dummies. Особенно радует параметр dummy_na\n",
    "    df_output['City_copy'] = df_output['City'] #потребуется позже\n",
    "    df_output = pd.get_dummies(df_output, columns=[ 'City',], dummy_na=True)\n",
    "    \n",
    "    # Создаем One-Hot Encoding для видов кухни в каждом ресторане\n",
    "    df_output['Cuisine Style'] = df_output['Cuisine Style'].apply(lambda s: s[1:-1].split(', '))\n",
    "    cuisines_set = set() # все виды кухонь\n",
    "    for cuisines_list in df_output['Cuisine Style']:\n",
    "        for cuisine in cuisines_list:\n",
    "            cuisines_set.add(cuisine)\n",
    "        \n",
    "    for cuisine in cuisines_set: #создаем одноименные колонки\n",
    "        df_output[cuisine] = [0 for i in range(0, 40000)]\n",
    "\n",
    "    index = 0\n",
    "    for cuisine_list in df_output['Cuisine Style']: # заполняем единицей если кухня представлена\n",
    "        for cuisine in cuisine_list:\n",
    "            df_output[cuisine][index] = 1\n",
    "        index+=1\n",
    "    \n",
    "    # ################### 4. Feature Engineering ####################################################\n",
    "    # тут ваш код не генерацию новых фитчей\n",
    "    \n",
    "    # Вычисляем к-во ресторанов для города в каждой строке\n",
    "    restorants_in_city = df_output.groupby('City_copy')['Ranking'].count().to_dict()\n",
    "    df_output['Restaurants Count'] = df_output['City_copy'].map(restorants_in_city)\n",
    "\n",
    "    def get_Weighed_Rank_RK(row):\n",
    "        '''\n",
    "        Вычисляем относительную позицию ресторана среди всех ресторанов города\n",
    "        '''\n",
    "        Weighed_Rank = row['Ranking'] / row['Restaurants Count']\n",
    "\n",
    "        return Weighed_Rank\n",
    "\n",
    "    # Получаем относительную позицию ресторана среди всех ресторанов города\n",
    "    df_output['Weighed Rank'] = df_output.apply(lambda x: get_Weighed_Rank_RK(x), axis=1)\n",
    "    \n",
    "    # создаем колонку численности города\n",
    "    population = {\n",
    "    'Paris': 2148327,\n",
    "    'Stockholm': 1006984,\n",
    "    'London': 8961989,\n",
    "    'Berlin': 3644826,\n",
    "    'Munich': 1471508,\n",
    "    'Oporto': 287591,\n",
    "    'Milan': 1366180,\n",
    "    'Bratislava': 428672,\n",
    "    'Vienna': 1911191,\n",
    "    'Rome': 2870500,\n",
    "    'Barcelona': 1664182,\n",
    "    'Madrid': 3334730,\n",
    "    'Dublin': 1173179,\n",
    "    'Brussels': 185103,\n",
    "    'Zurich': 434008,\n",
    "    'Warsaw': 1702139,\n",
    "    'Budapest': 1752286,\n",
    "    'Copenhagen': 794128,\n",
    "    'Amsterdam': 860124,\n",
    "    'Lyon': 518635,\n",
    "    'Hamburg': 1845229,\n",
    "    'Lisbon': 506654,\n",
    "    'Prague': 1335084,\n",
    "    'Oslo': 693494,\n",
    "    'Helsinki': 656611,\n",
    "    'Edinburgh': 488050,\n",
    "    'Geneva': 433978,\n",
    "    'Ljubljana': 286745,\n",
    "    'Athens': 664046,\n",
    "    'Luxembourg': 124509,\n",
    "    'Krakow': 779115  \n",
    "    }\n",
    "    df_output['Population'] = df_output.City_copy.apply(lambda x: population[x]/1000000)\n",
    "    \n",
    "    # создаем колонку разницы в днях между двумя отзывами\n",
    "    date_list = []\n",
    "    for string in df_output.Reviews:\n",
    "        raw_s = string[string.rfind('['):-1]\n",
    "        review_list = raw_s[1:-1].split(', ')\n",
    "        if len(review_list)>1:\n",
    "            date_list.append(review_list)\n",
    "        else:\n",
    "            date_list.append(0)\n",
    "        \n",
    "    list2=[]\n",
    "    for pair in date_list:\n",
    "        if pair==0:\n",
    "            list2.append(0)\n",
    "        else:\n",
    "            list2.append((pd.to_datetime(pair[0])-pd.to_datetime(pair[1])).days)\n",
    "\n",
    "    df_output['review_diff'] = list2\n",
    "    \n",
    "    # создаем колонку - ранг ценовой категории\n",
    "    def price_lvl(s):\n",
    "        if s=='$': \n",
    "            return 1\n",
    "        elif s=='$$ - $$$': \n",
    "            return 2\n",
    "        elif s=='$$$$': \n",
    "            return 3\n",
    "        else:\n",
    "            return 2\n",
    "    \n",
    "    df_output['Price_lvl'] = df_output['Price Range'].apply(price_lvl)\n",
    "    \n",
    "    # добавляем колонку - количество представленных видов кухни\n",
    "    df_output['Cuisine_amount'] = df_output['Cuisine Style'].apply(lambda x: len(x))\n",
    "    \n",
    "    # добавляем информацию о пропущенных значениях\n",
    "    df_output['Number_of_Reviews_isNAN'] = pd.isna(df_output['Number of Reviews']).astype('uint8')\n",
    "    df_output['Cuisine_Style_isNAN'] = pd.isna(df_output['Cuisine Style']).astype('uint8')\n",
    "    df_output['Price_Range_isNAN'] = pd.isna(df_output['Price Range']).astype('uint8')\n",
    "    df_output['review_existance'] = df_output.Reviews.apply(lambda x: 1 if x=='[[], []]' else 0)\n",
    "    \n",
    "    # ################### 5. Clean #################################################### \n",
    "    # убираем признаки которые еще не успели обработать, \n",
    "    # модель на признаках с dtypes \"object\" обучаться не будет, просто выберим их и удалим\n",
    "    df_output = df_output.drop(['Cuisine Style', 'Price Range', 'Reviews', 'City_copy', 'URL_TA'], axis=1)\n",
    "    \n",
    "    return df_output"
   ]
  },
  {
   "cell_type": "code",
   "execution_count": 4,
   "metadata": {},
   "outputs": [
    {
     "name": "stderr",
     "output_type": "stream",
     "text": [
      "<ipython-input-3-57f33d2c0cad>:36: SettingWithCopyWarning: \n",
      "A value is trying to be set on a copy of a slice from a DataFrame\n",
      "\n",
      "See the caveats in the documentation: https://pandas.pydata.org/pandas-docs/stable/user_guide/indexing.html#returning-a-view-versus-a-copy\n",
      "  df_output[cuisine][index] = 1\n"
     ]
    }
   ],
   "source": [
    "df = preproc_data(df)"
   ]
  },
  {
   "cell_type": "markdown",
   "metadata": {},
   "source": [
    "# Разбиваем датафрейм на части, необходимые для обучения и тестирования модели"
   ]
  },
  {
   "cell_type": "code",
   "execution_count": 5,
   "metadata": {},
   "outputs": [],
   "source": [
    "# Х - данные с информацией о ресторанах, у - целевая переменная (рейтинги ресторанов)\n",
    "X = df.drop('Rating', axis = 1)\n",
    "y = df['Rating']"
   ]
  },
  {
   "cell_type": "code",
   "execution_count": 6,
   "metadata": {},
   "outputs": [],
   "source": [
    "# Загружаем специальный инструмент для разбивки:\n",
    "from sklearn.model_selection import train_test_split"
   ]
  },
  {
   "cell_type": "code",
   "execution_count": 7,
   "metadata": {},
   "outputs": [],
   "source": [
    "# Наборы данных с меткой \"train\" будут использоваться для обучения модели, \"test\" - для тестирования.\n",
    "# Для тестирования мы будем использовать 25% от исходного датасета.\n",
    "X_train, X_test, y_train, y_test = train_test_split(X, y, test_size=0.25)"
   ]
  },
  {
   "cell_type": "markdown",
   "metadata": {},
   "source": [
    "# Создаём, обучаем и тестируем модель"
   ]
  },
  {
   "cell_type": "code",
   "execution_count": 8,
   "metadata": {},
   "outputs": [],
   "source": [
    "# Импортируем необходимые библиотеки:\n",
    "from sklearn.ensemble import RandomForestRegressor # инструмент для создания и обучения модели\n",
    "from sklearn import metrics # инструменты для оценки точности модели"
   ]
  },
  {
   "cell_type": "code",
   "execution_count": 9,
   "metadata": {},
   "outputs": [],
   "source": [
    "# Создаём модель\n",
    "regr = RandomForestRegressor(n_estimators=100)\n",
    "\n",
    "# Обучаем модель на тестовом наборе данных\n",
    "regr.fit(X_train, y_train)\n",
    "\n",
    "# Используем обученную модель для предсказания рейтинга ресторанов в тестовой выборке.\n",
    "# Предсказанные значения записываем в переменную y_pred\n",
    "y_pred = regr.predict(X_test)"
   ]
  },
  {
   "cell_type": "code",
   "execution_count": 10,
   "metadata": {},
   "outputs": [
    {
     "name": "stdout",
     "output_type": "stream",
     "text": [
      "MAE: 0.21090299999999998\n"
     ]
    }
   ],
   "source": [
    "# Сравниваем предсказанные значения (y_pred) с реальными (y_test), и смотрим насколько они в среднем отличаются\n",
    "# Метрика называется Mean Absolute Error (MAE) и показывает среднее отклонение предсказанных значений от фактических.\n",
    "print('MAE:', metrics.mean_absolute_error(y_test, y_pred))"
   ]
  }
 ],
 "metadata": {
  "kernelspec": {
   "display_name": "Python 3",
   "language": "python",
   "name": "python3"
  },
  "language_info": {
   "codemirror_mode": {
    "name": "ipython",
    "version": 3
   },
   "file_extension": ".py",
   "mimetype": "text/x-python",
   "name": "python",
   "nbconvert_exporter": "python",
   "pygments_lexer": "ipython3",
   "version": "3.8.8"
  }
 },
 "nbformat": 4,
 "nbformat_minor": 2
}
